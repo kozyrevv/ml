{
 "cells": [
  {
   "cell_type": "markdown",
   "metadata": {
    "hide_input": false
   },
   "source": [
    "## Подведение итогов\n",
    "### Общий подход к решению задач машинного обучения\n",
    "### Вмешательство человека в работу модели"
   ]
  },
  {
   "cell_type": "markdown",
   "metadata": {},
   "source": [
    "### От прототипа к производству"
   ]
  },
  {
   "cell_type": "markdown",
   "metadata": {},
   "source": [
    "### Tестирование производственных систем"
   ]
  },
  {
   "cell_type": "markdown",
   "metadata": {},
   "source": [
    "### Создание собственного класса Estimator"
   ]
  },
  {
   "cell_type": "code",
   "execution_count": 1,
   "metadata": {
    "collapsed": true
   },
   "outputs": [],
   "source": [
    "from sklearn.base import BaseEstimator, TransformerMixin\n",
    "\n",
    "class MyTransformer(BaseEstimator, TransformerMixin):\n",
    "    def __init__(self, first_parameter=1, second_parameter=2):\n",
    "        # Все параметры должны быть заданы в функции __init__\n",
    "        self.first_parameter = 1\n",
    "        self.second_parameter = 2\n",
    "    \n",
    "    def fit(self, X, y=None):\n",
    "        # fit должна принимать в качестве аргументов только X и y\n",
    "        # Даже если ваша модель является неконтролируемой, вы должны принять аргумент y!\n",
    "       \n",
    "        # Подгонка модели осуществляется прямо здесь\n",
    "        print(\"подгоняем модель прямо здесь\")\n",
    "        # fit возвращает self\n",
    "        return self\n",
    "\n",
    "    def transform(self, X):\n",
    "        # transform принимает в качестве аргумента только X\n",
    "\n",
    "        # Применяем преобразование к X\n",
    "        X_transformed = X + 1\n",
    "        return X_transformed"
   ]
  },
  {
   "cell_type": "markdown",
   "metadata": {},
   "source": [
    "### Куда двигаться дальше\n",
    "#### Теория\n",
    "#### Другие фреймворки и пакеты машинного обучения\n",
    "#### Ранжирование, рекомендательные системы и другие виды обучения\n",
    "#### Вероятностное моделирование, теория статистического вывода и вероятностное программирование"
   ]
  },
  {
   "cell_type": "markdown",
   "metadata": {},
   "source": [
    "#### Нейронные сети"
   ]
  },
  {
   "cell_type": "markdown",
   "metadata": {},
   "source": [
    "#### Масштабирование на больших наборах данных"
   ]
  },
  {
   "cell_type": "markdown",
   "metadata": {},
   "source": [
    "#### Оттачивание навыков"
   ]
  },
  {
   "cell_type": "markdown",
   "metadata": {},
   "source": [
    "#### Заключение"
   ]
  }
 ],
 "metadata": {
  "anaconda-cloud": {},
  "kernelspec": {
   "display_name": "Python [conda root]",
   "language": "python",
   "name": "conda-root-py"
  },
  "language_info": {
   "codemirror_mode": {
    "name": "ipython",
    "version": 3
   },
   "file_extension": ".py",
   "mimetype": "text/x-python",
   "name": "python",
   "nbconvert_exporter": "python",
   "pygments_lexer": "ipython3",
   "version": "3.5.2"
  }
 },
 "nbformat": 4,
 "nbformat_minor": 0
}
